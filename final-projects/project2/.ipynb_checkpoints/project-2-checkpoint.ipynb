{
 "cells": [
  {
   "cell_type": "markdown",
   "metadata": {},
   "source": [
    "# Project Design Writeup"
   ]
  },
  {
   "cell_type": "code",
   "execution_count": 27,
   "metadata": {
    "collapsed": true
   },
   "outputs": [],
   "source": [
    "import pandas as pd\n",
    "\n",
    "df_train = pd.read_csv('//Users/asorrentino/ds-work/homework/final-projects/data/train.csv')\n",
    "df_macro = pd.read_csv('/Users/asorrentino/ds-work/homework/final-projects/data/macro.csv')"
   ]
  },
  {
   "cell_type": "markdown",
   "metadata": {},
   "source": [
    "### Project Problem and Hypothesis"
   ]
  },
  {
   "cell_type": "markdown",
   "metadata": {},
   "source": [
    "My project is to predict real estate transaction prices given building characterstics, neighborhood characteristics and macro-economic indicators."
   ]
  },
  {
   "cell_type": "markdown",
   "metadata": {},
   "source": [
    "The outcome variable, price of transactions, is a continuous number so a linear regression model will likely be used for the analysis."
   ]
  },
  {
   "cell_type": "markdown",
   "metadata": {},
   "source": [
    "I think certain building characteristics and neighborhood characteristics will have the most impact on real esate prices. While I do think a few macro-economic variables will impact the prices, I think the building characteristics such as square feet will have the largest impact on price."
   ]
  },
  {
   "cell_type": "markdown",
   "metadata": {},
   "source": [
    "### Datasets"
   ]
  },
  {
   "cell_type": "markdown",
   "metadata": {},
   "source": [
    "The datasets will be split into three categories: the internal building characteristics, the neighboorhood characteristics, and the macro-economic indicators."
   ]
  },
  {
   "cell_type": "markdown",
   "metadata": {},
   "source": [
    "The building characteristics, which include full_sq (total area in square meters, including loggias, balconies and other non-residential areas), life_sq (living area in square meters, excluding loggias, balconies and other non-residential areas), floor (for apartments, floor of the building), max_floor (number of floors in the building), build_year (year built), num_room (number of living rooms), kitch_sq (kitchen area) and state (apartment condition). Also included is the price_doc, which is the transaction price (outcome variable).\n"
   ]
  },
  {
   "cell_type": "code",
   "execution_count": 28,
   "metadata": {
    "collapsed": false,
    "scrolled": true
   },
   "outputs": [
    {
     "data": {
      "text/html": [
       "<div>\n",
       "<table border=\"1\" class=\"dataframe\">\n",
       "  <thead>\n",
       "    <tr style=\"text-align: right;\">\n",
       "      <th></th>\n",
       "      <th>full_sq</th>\n",
       "      <th>life_sq</th>\n",
       "      <th>floor</th>\n",
       "      <th>max_floor</th>\n",
       "      <th>build_year</th>\n",
       "      <th>num_room</th>\n",
       "      <th>kitch_sq</th>\n",
       "      <th>state</th>\n",
       "      <th>price_doc</th>\n",
       "    </tr>\n",
       "  </thead>\n",
       "  <tbody>\n",
       "    <tr>\n",
       "      <th>0</th>\n",
       "      <td>43</td>\n",
       "      <td>27.00</td>\n",
       "      <td>4.00</td>\n",
       "      <td>nan</td>\n",
       "      <td>nan</td>\n",
       "      <td>nan</td>\n",
       "      <td>nan</td>\n",
       "      <td>nan</td>\n",
       "      <td>5850000</td>\n",
       "    </tr>\n",
       "    <tr>\n",
       "      <th>1</th>\n",
       "      <td>34</td>\n",
       "      <td>19.00</td>\n",
       "      <td>3.00</td>\n",
       "      <td>nan</td>\n",
       "      <td>nan</td>\n",
       "      <td>nan</td>\n",
       "      <td>nan</td>\n",
       "      <td>nan</td>\n",
       "      <td>6000000</td>\n",
       "    </tr>\n",
       "    <tr>\n",
       "      <th>2</th>\n",
       "      <td>43</td>\n",
       "      <td>29.00</td>\n",
       "      <td>2.00</td>\n",
       "      <td>nan</td>\n",
       "      <td>nan</td>\n",
       "      <td>nan</td>\n",
       "      <td>nan</td>\n",
       "      <td>nan</td>\n",
       "      <td>5700000</td>\n",
       "    </tr>\n",
       "    <tr>\n",
       "      <th>3</th>\n",
       "      <td>89</td>\n",
       "      <td>50.00</td>\n",
       "      <td>9.00</td>\n",
       "      <td>nan</td>\n",
       "      <td>nan</td>\n",
       "      <td>nan</td>\n",
       "      <td>nan</td>\n",
       "      <td>nan</td>\n",
       "      <td>13100000</td>\n",
       "    </tr>\n",
       "    <tr>\n",
       "      <th>4</th>\n",
       "      <td>77</td>\n",
       "      <td>77.00</td>\n",
       "      <td>4.00</td>\n",
       "      <td>nan</td>\n",
       "      <td>nan</td>\n",
       "      <td>nan</td>\n",
       "      <td>nan</td>\n",
       "      <td>nan</td>\n",
       "      <td>16331452</td>\n",
       "    </tr>\n",
       "  </tbody>\n",
       "</table>\n",
       "</div>"
      ],
      "text/plain": [
       "   full_sq  life_sq  floor  max_floor  build_year  num_room  kitch_sq  state  \\\n",
       "0       43    27.00   4.00        nan         nan       nan       nan    nan   \n",
       "1       34    19.00   3.00        nan         nan       nan       nan    nan   \n",
       "2       43    29.00   2.00        nan         nan       nan       nan    nan   \n",
       "3       89    50.00   9.00        nan         nan       nan       nan    nan   \n",
       "4       77    77.00   4.00        nan         nan       nan       nan    nan   \n",
       "\n",
       "   price_doc  \n",
       "0    5850000  \n",
       "1    6000000  \n",
       "2    5700000  \n",
       "3   13100000  \n",
       "4   16331452  "
      ]
     },
     "execution_count": 28,
     "metadata": {},
     "output_type": "execute_result"
    }
   ],
   "source": [
    "df_train_apt = df_train[['full_sq', 'life_sq', 'floor', 'max_floor', 'build_year', 'num_room', 'kitch_sq', 'state', 'price_doc']]\n",
    "df_train_apt.head()"
   ]
  },
  {
   "cell_type": "markdown",
   "metadata": {},
   "source": [
    "The neighborhood (or raion in Russian) characteristics, which include a collection of features about each property's surrounding area. This includes variables such as population, schools, distance to cafes, etc."
   ]
  },
  {
   "cell_type": "code",
   "execution_count": 29,
   "metadata": {
    "collapsed": false
   },
   "outputs": [
    {
     "data": {
      "text/html": [
       "<div>\n",
       "<table border=\"1\" class=\"dataframe\">\n",
       "  <thead>\n",
       "    <tr style=\"text-align: right;\">\n",
       "      <th></th>\n",
       "      <th>sub_area</th>\n",
       "      <th>area_m</th>\n",
       "      <th>raion_popul</th>\n",
       "      <th>green_zone_part</th>\n",
       "      <th>indust_part</th>\n",
       "      <th>children_preschool</th>\n",
       "      <th>preschool_quota</th>\n",
       "      <th>preschool_education_centers_raion</th>\n",
       "      <th>children_school</th>\n",
       "      <th>school_quota</th>\n",
       "      <th>...</th>\n",
       "      <th>cafe_count_5000_price_2500</th>\n",
       "      <th>cafe_count_5000_price_4000</th>\n",
       "      <th>cafe_count_5000_price_high</th>\n",
       "      <th>big_church_count_5000</th>\n",
       "      <th>church_count_5000</th>\n",
       "      <th>mosque_count_5000</th>\n",
       "      <th>leisure_count_5000</th>\n",
       "      <th>sport_count_5000</th>\n",
       "      <th>market_count_5000</th>\n",
       "      <th>price_doc</th>\n",
       "    </tr>\n",
       "  </thead>\n",
       "  <tbody>\n",
       "    <tr>\n",
       "      <th>0</th>\n",
       "      <td>Bibirevo</td>\n",
       "      <td>6,407,578.10</td>\n",
       "      <td>155572</td>\n",
       "      <td>0.19</td>\n",
       "      <td>0.00</td>\n",
       "      <td>9576</td>\n",
       "      <td>5,001.00</td>\n",
       "      <td>5</td>\n",
       "      <td>10309</td>\n",
       "      <td>11,065.00</td>\n",
       "      <td>...</td>\n",
       "      <td>9</td>\n",
       "      <td>4</td>\n",
       "      <td>0</td>\n",
       "      <td>13</td>\n",
       "      <td>22</td>\n",
       "      <td>1</td>\n",
       "      <td>0</td>\n",
       "      <td>52</td>\n",
       "      <td>4</td>\n",
       "      <td>5850000</td>\n",
       "    </tr>\n",
       "    <tr>\n",
       "      <th>1</th>\n",
       "      <td>Nagatinskij Zaton</td>\n",
       "      <td>9,589,336.91</td>\n",
       "      <td>115352</td>\n",
       "      <td>0.37</td>\n",
       "      <td>0.05</td>\n",
       "      <td>6880</td>\n",
       "      <td>3,119.00</td>\n",
       "      <td>5</td>\n",
       "      <td>7759</td>\n",
       "      <td>6,237.00</td>\n",
       "      <td>...</td>\n",
       "      <td>15</td>\n",
       "      <td>3</td>\n",
       "      <td>0</td>\n",
       "      <td>15</td>\n",
       "      <td>29</td>\n",
       "      <td>1</td>\n",
       "      <td>10</td>\n",
       "      <td>66</td>\n",
       "      <td>14</td>\n",
       "      <td>6000000</td>\n",
       "    </tr>\n",
       "    <tr>\n",
       "      <th>2</th>\n",
       "      <td>Tekstil'shhiki</td>\n",
       "      <td>4,808,269.83</td>\n",
       "      <td>101708</td>\n",
       "      <td>0.11</td>\n",
       "      <td>0.12</td>\n",
       "      <td>5879</td>\n",
       "      <td>1,463.00</td>\n",
       "      <td>4</td>\n",
       "      <td>6207</td>\n",
       "      <td>5,580.00</td>\n",
       "      <td>...</td>\n",
       "      <td>10</td>\n",
       "      <td>3</td>\n",
       "      <td>0</td>\n",
       "      <td>11</td>\n",
       "      <td>27</td>\n",
       "      <td>0</td>\n",
       "      <td>4</td>\n",
       "      <td>67</td>\n",
       "      <td>10</td>\n",
       "      <td>5700000</td>\n",
       "    </tr>\n",
       "    <tr>\n",
       "      <th>3</th>\n",
       "      <td>Mitino</td>\n",
       "      <td>12,583,535.69</td>\n",
       "      <td>178473</td>\n",
       "      <td>0.19</td>\n",
       "      <td>0.07</td>\n",
       "      <td>13087</td>\n",
       "      <td>6,839.00</td>\n",
       "      <td>9</td>\n",
       "      <td>13670</td>\n",
       "      <td>17,063.00</td>\n",
       "      <td>...</td>\n",
       "      <td>11</td>\n",
       "      <td>2</td>\n",
       "      <td>1</td>\n",
       "      <td>4</td>\n",
       "      <td>4</td>\n",
       "      <td>0</td>\n",
       "      <td>0</td>\n",
       "      <td>26</td>\n",
       "      <td>3</td>\n",
       "      <td>13100000</td>\n",
       "    </tr>\n",
       "    <tr>\n",
       "      <th>4</th>\n",
       "      <td>Basmannoe</td>\n",
       "      <td>8,398,460.62</td>\n",
       "      <td>108171</td>\n",
       "      <td>0.02</td>\n",
       "      <td>0.04</td>\n",
       "      <td>5706</td>\n",
       "      <td>3,240.00</td>\n",
       "      <td>7</td>\n",
       "      <td>6748</td>\n",
       "      <td>7,770.00</td>\n",
       "      <td>...</td>\n",
       "      <td>319</td>\n",
       "      <td>108</td>\n",
       "      <td>17</td>\n",
       "      <td>135</td>\n",
       "      <td>236</td>\n",
       "      <td>2</td>\n",
       "      <td>91</td>\n",
       "      <td>195</td>\n",
       "      <td>14</td>\n",
       "      <td>16331452</td>\n",
       "    </tr>\n",
       "  </tbody>\n",
       "</table>\n",
       "<p>5 rows × 280 columns</p>\n",
       "</div>"
      ],
      "text/plain": [
       "            sub_area        area_m  raion_popul  green_zone_part  indust_part  \\\n",
       "0           Bibirevo  6,407,578.10       155572             0.19         0.00   \n",
       "1  Nagatinskij Zaton  9,589,336.91       115352             0.37         0.05   \n",
       "2     Tekstil'shhiki  4,808,269.83       101708             0.11         0.12   \n",
       "3             Mitino 12,583,535.69       178473             0.19         0.07   \n",
       "4          Basmannoe  8,398,460.62       108171             0.02         0.04   \n",
       "\n",
       "   children_preschool  preschool_quota  preschool_education_centers_raion  \\\n",
       "0                9576         5,001.00                                  5   \n",
       "1                6880         3,119.00                                  5   \n",
       "2                5879         1,463.00                                  4   \n",
       "3               13087         6,839.00                                  9   \n",
       "4                5706         3,240.00                                  7   \n",
       "\n",
       "   children_school  school_quota    ...      cafe_count_5000_price_2500  \\\n",
       "0            10309     11,065.00    ...                               9   \n",
       "1             7759      6,237.00    ...                              15   \n",
       "2             6207      5,580.00    ...                              10   \n",
       "3            13670     17,063.00    ...                              11   \n",
       "4             6748      7,770.00    ...                             319   \n",
       "\n",
       "   cafe_count_5000_price_4000  cafe_count_5000_price_high  \\\n",
       "0                           4                           0   \n",
       "1                           3                           0   \n",
       "2                           3                           0   \n",
       "3                           2                           1   \n",
       "4                         108                          17   \n",
       "\n",
       "   big_church_count_5000  church_count_5000  mosque_count_5000  \\\n",
       "0                     13                 22                  1   \n",
       "1                     15                 29                  1   \n",
       "2                     11                 27                  0   \n",
       "3                      4                  4                  0   \n",
       "4                    135                236                  2   \n",
       "\n",
       "   leisure_count_5000 sport_count_5000  market_count_5000  price_doc  \n",
       "0                   0               52                  4    5850000  \n",
       "1                  10               66                 14    6000000  \n",
       "2                   4               67                 10    5700000  \n",
       "3                   0               26                  3   13100000  \n",
       "4                  91              195                 14   16331452  \n",
       "\n",
       "[5 rows x 280 columns]"
      ]
     },
     "execution_count": 29,
     "metadata": {},
     "output_type": "execute_result"
    }
   ],
   "source": [
    "df_train_raion = df_train.iloc[:,12:]\n",
    "df_train_raion.head()"
   ]
  },
  {
   "cell_type": "markdown",
   "metadata": {},
   "source": [
    "The macro-economic indicators, one for each date:"
   ]
  },
  {
   "cell_type": "code",
   "execution_count": 30,
   "metadata": {
    "collapsed": false,
    "scrolled": true
   },
   "outputs": [
    {
     "data": {
      "text/html": [
       "<div>\n",
       "<table border=\"1\" class=\"dataframe\">\n",
       "  <thead>\n",
       "    <tr style=\"text-align: right;\">\n",
       "      <th></th>\n",
       "      <th>timestamp</th>\n",
       "      <th>oil_urals</th>\n",
       "      <th>gdp_quart</th>\n",
       "      <th>gdp_quart_growth</th>\n",
       "      <th>cpi</th>\n",
       "      <th>ppi</th>\n",
       "      <th>gdp_deflator</th>\n",
       "      <th>balance_trade</th>\n",
       "      <th>balance_trade_growth</th>\n",
       "      <th>usdrub</th>\n",
       "      <th>...</th>\n",
       "      <th>provision_retail_space_modern_sqm</th>\n",
       "      <th>turnover_catering_per_cap</th>\n",
       "      <th>theaters_viewers_per_1000_cap</th>\n",
       "      <th>seats_theather_rfmin_per_100000_cap</th>\n",
       "      <th>museum_visitis_per_100_cap</th>\n",
       "      <th>bandwidth_sports</th>\n",
       "      <th>population_reg_sports_share</th>\n",
       "      <th>students_reg_sports_share</th>\n",
       "      <th>apartment_build</th>\n",
       "      <th>apartment_fund_sqm</th>\n",
       "    </tr>\n",
       "  </thead>\n",
       "  <tbody>\n",
       "    <tr>\n",
       "      <th>0</th>\n",
       "      <td>2010-01-01</td>\n",
       "      <td>76.10</td>\n",
       "      <td>nan</td>\n",
       "      <td>nan</td>\n",
       "      <td>nan</td>\n",
       "      <td>nan</td>\n",
       "      <td>nan</td>\n",
       "      <td>nan</td>\n",
       "      <td>nan</td>\n",
       "      <td>nan</td>\n",
       "      <td>...</td>\n",
       "      <td>690.00</td>\n",
       "      <td>6,221.00</td>\n",
       "      <td>527.00</td>\n",
       "      <td>0.41</td>\n",
       "      <td>993.00</td>\n",
       "      <td>nan</td>\n",
       "      <td>nan</td>\n",
       "      <td>63.03</td>\n",
       "      <td>22,825.00</td>\n",
       "      <td>nan</td>\n",
       "    </tr>\n",
       "    <tr>\n",
       "      <th>1</th>\n",
       "      <td>2010-01-02</td>\n",
       "      <td>76.10</td>\n",
       "      <td>nan</td>\n",
       "      <td>nan</td>\n",
       "      <td>nan</td>\n",
       "      <td>nan</td>\n",
       "      <td>nan</td>\n",
       "      <td>nan</td>\n",
       "      <td>nan</td>\n",
       "      <td>nan</td>\n",
       "      <td>...</td>\n",
       "      <td>690.00</td>\n",
       "      <td>6,221.00</td>\n",
       "      <td>527.00</td>\n",
       "      <td>0.41</td>\n",
       "      <td>993.00</td>\n",
       "      <td>nan</td>\n",
       "      <td>nan</td>\n",
       "      <td>63.03</td>\n",
       "      <td>22,825.00</td>\n",
       "      <td>nan</td>\n",
       "    </tr>\n",
       "    <tr>\n",
       "      <th>2</th>\n",
       "      <td>2010-01-03</td>\n",
       "      <td>76.10</td>\n",
       "      <td>nan</td>\n",
       "      <td>nan</td>\n",
       "      <td>nan</td>\n",
       "      <td>nan</td>\n",
       "      <td>nan</td>\n",
       "      <td>nan</td>\n",
       "      <td>nan</td>\n",
       "      <td>nan</td>\n",
       "      <td>...</td>\n",
       "      <td>690.00</td>\n",
       "      <td>6,221.00</td>\n",
       "      <td>527.00</td>\n",
       "      <td>0.41</td>\n",
       "      <td>993.00</td>\n",
       "      <td>nan</td>\n",
       "      <td>nan</td>\n",
       "      <td>63.03</td>\n",
       "      <td>22,825.00</td>\n",
       "      <td>nan</td>\n",
       "    </tr>\n",
       "    <tr>\n",
       "      <th>3</th>\n",
       "      <td>2010-01-04</td>\n",
       "      <td>76.10</td>\n",
       "      <td>nan</td>\n",
       "      <td>nan</td>\n",
       "      <td>nan</td>\n",
       "      <td>nan</td>\n",
       "      <td>nan</td>\n",
       "      <td>nan</td>\n",
       "      <td>nan</td>\n",
       "      <td>29.91</td>\n",
       "      <td>...</td>\n",
       "      <td>690.00</td>\n",
       "      <td>6,221.00</td>\n",
       "      <td>527.00</td>\n",
       "      <td>0.41</td>\n",
       "      <td>993.00</td>\n",
       "      <td>nan</td>\n",
       "      <td>nan</td>\n",
       "      <td>63.03</td>\n",
       "      <td>22,825.00</td>\n",
       "      <td>nan</td>\n",
       "    </tr>\n",
       "    <tr>\n",
       "      <th>4</th>\n",
       "      <td>2010-01-05</td>\n",
       "      <td>76.10</td>\n",
       "      <td>nan</td>\n",
       "      <td>nan</td>\n",
       "      <td>nan</td>\n",
       "      <td>nan</td>\n",
       "      <td>nan</td>\n",
       "      <td>nan</td>\n",
       "      <td>nan</td>\n",
       "      <td>29.84</td>\n",
       "      <td>...</td>\n",
       "      <td>690.00</td>\n",
       "      <td>6,221.00</td>\n",
       "      <td>527.00</td>\n",
       "      <td>0.41</td>\n",
       "      <td>993.00</td>\n",
       "      <td>nan</td>\n",
       "      <td>nan</td>\n",
       "      <td>63.03</td>\n",
       "      <td>22,825.00</td>\n",
       "      <td>nan</td>\n",
       "    </tr>\n",
       "  </tbody>\n",
       "</table>\n",
       "<p>5 rows × 100 columns</p>\n",
       "</div>"
      ],
      "text/plain": [
       "    timestamp  oil_urals  gdp_quart  gdp_quart_growth  cpi  ppi  gdp_deflator  \\\n",
       "0  2010-01-01      76.10        nan               nan  nan  nan           nan   \n",
       "1  2010-01-02      76.10        nan               nan  nan  nan           nan   \n",
       "2  2010-01-03      76.10        nan               nan  nan  nan           nan   \n",
       "3  2010-01-04      76.10        nan               nan  nan  nan           nan   \n",
       "4  2010-01-05      76.10        nan               nan  nan  nan           nan   \n",
       "\n",
       "   balance_trade  balance_trade_growth  usdrub         ...          \\\n",
       "0            nan                   nan     nan         ...           \n",
       "1            nan                   nan     nan         ...           \n",
       "2            nan                   nan     nan         ...           \n",
       "3            nan                   nan   29.91         ...           \n",
       "4            nan                   nan   29.84         ...           \n",
       "\n",
       "   provision_retail_space_modern_sqm  turnover_catering_per_cap  \\\n",
       "0                             690.00                   6,221.00   \n",
       "1                             690.00                   6,221.00   \n",
       "2                             690.00                   6,221.00   \n",
       "3                             690.00                   6,221.00   \n",
       "4                             690.00                   6,221.00   \n",
       "\n",
       "   theaters_viewers_per_1000_cap  seats_theather_rfmin_per_100000_cap  \\\n",
       "0                         527.00                                 0.41   \n",
       "1                         527.00                                 0.41   \n",
       "2                         527.00                                 0.41   \n",
       "3                         527.00                                 0.41   \n",
       "4                         527.00                                 0.41   \n",
       "\n",
       "   museum_visitis_per_100_cap  bandwidth_sports  population_reg_sports_share  \\\n",
       "0                      993.00               nan                          nan   \n",
       "1                      993.00               nan                          nan   \n",
       "2                      993.00               nan                          nan   \n",
       "3                      993.00               nan                          nan   \n",
       "4                      993.00               nan                          nan   \n",
       "\n",
       "   students_reg_sports_share  apartment_build  apartment_fund_sqm  \n",
       "0                      63.03        22,825.00                 nan  \n",
       "1                      63.03        22,825.00                 nan  \n",
       "2                      63.03        22,825.00                 nan  \n",
       "3                      63.03        22,825.00                 nan  \n",
       "4                      63.03        22,825.00                 nan  \n",
       "\n",
       "[5 rows x 100 columns]"
      ]
     },
     "execution_count": 30,
     "metadata": {},
     "output_type": "execute_result"
    }
   ],
   "source": [
    "df_macro.head()"
   ]
  },
  {
   "cell_type": "markdown",
   "metadata": {},
   "source": [
    "### Domain Knowledge"
   ]
  },
  {
   "cell_type": "markdown",
   "metadata": {},
   "source": [
    "My experience:"
   ]
  },
  {
   "cell_type": "markdown",
   "metadata": {},
   "source": [
    "I have a little experience in commercial real estate from both college and my first few yeasr of work. In college, I studied Business & Technology and took many classes on financial markets. In my early career, I worked with REITs (real estate investment trusts) so am familiar with the CRE space. I think this experience will be helpful for analyzing the different variables and understanding how they should related to each other."
   ]
  },
  {
   "cell_type": "markdown",
   "metadata": {},
   "source": [
    "Other research:"
   ]
  },
  {
   "cell_type": "markdown",
   "metadata": {},
   "source": [
    "Since this is a Kaggle competition, there are a number of forums and discussions related to the project which will prove helpful if needed."
   ]
  },
  {
   "cell_type": "markdown",
   "metadata": {},
   "source": [
    "There are also a number of papers and studies on predicting real estate prices, however, from a cursory Google look it appears that they are mostly about predicting prices given housing characteristics, not including macro-economic data."
   ]
  },
  {
   "cell_type": "markdown",
   "metadata": {},
   "source": [
    "### Project Concerns"
   ]
  },
  {
   "cell_type": "markdown",
   "metadata": {},
   "source": [
    "Questions/concerns about the project:"
   ]
  },
  {
   "cell_type": "markdown",
   "metadata": {},
   "source": [
    "At this point, I understand the dataset very well. My concerns are now in being able to transform the data into something usable (it needs to be cleaned up) and then using the models we have learned thus far to run an analysis."
   ]
  },
  {
   "cell_type": "markdown",
   "metadata": {},
   "source": [
    "My biggest concern, or question, at this point is in using the test dataset (how do I use that, when, where, etc.). This is not something we have specifically covered in class yet."
   ]
  },
  {
   "cell_type": "markdown",
   "metadata": {},
   "source": [
    "Assumptions/caveats:"
   ]
  },
  {
   "cell_type": "markdown",
   "metadata": {},
   "source": [
    "My assumption is that not all the variables and data provided will be useful in predicting the transaction prices. This means that I will have to run a number of tests to understand which features are most useful for my analysis."
   ]
  },
  {
   "cell_type": "markdown",
   "metadata": {},
   "source": [
    "Other data or knowledge that I may need to research is macro-economic trends in Russia during the timeframe of this dataset. I think this will be helpful to understand bigger picture what was happening in the economy and country at the time. This may prove necessary to understand jumps or drops in prices, regulation changes that might affect building characteristics, etc."
   ]
  },
  {
   "cell_type": "markdown",
   "metadata": {},
   "source": [
    "### Outcomes"
   ]
  },
  {
   "cell_type": "markdown",
   "metadata": {},
   "source": [
    "I expect the output to be a multiple linear regression model that takes into account a number of features from each dataset to predict real estate transactions. There may also be a classification model I can build on the data to determine type of investment or building, but this will be a phase 2 of the project."
   ]
  },
  {
   "cell_type": "markdown",
   "metadata": {},
   "source": [
    "I suspect that the most important feature of the model will be square footage, and that should have the largest impact on transaction price."
   ]
  },
  {
   "cell_type": "markdown",
   "metadata": {},
   "source": [
    "I do not think the model will have to be relatively complex. I think the complexity will be in determing what are the most important features to use from the different datasets and see which of those features has any impact on the outcome."
   ]
  },
  {
   "cell_type": "markdown",
   "metadata": {},
   "source": [
    "For me, this project will be used as a portfolio piece to show job prospects. My goal is to demonstrate that I understand the domain and can apply these skills in a useful business application. If the project goes bust, I can find a new project to work on."
   ]
  }
 ],
 "metadata": {
  "kernelspec": {
   "display_name": "Python 2",
   "language": "python",
   "name": "python2"
  },
  "language_info": {
   "codemirror_mode": {
    "name": "ipython",
    "version": 2
   },
   "file_extension": ".py",
   "mimetype": "text/x-python",
   "name": "python",
   "nbconvert_exporter": "python",
   "pygments_lexer": "ipython2",
   "version": "2.7.13"
  }
 },
 "nbformat": 4,
 "nbformat_minor": 2
}
