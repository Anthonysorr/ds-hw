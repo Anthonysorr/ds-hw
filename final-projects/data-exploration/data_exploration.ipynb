{
 "cells": [
  {
   "cell_type": "code",
   "execution_count": 4,
   "metadata": {
    "collapsed": false
   },
   "outputs": [],
   "source": [
    "%matplotlib inline\n",
    "import matplotlib.pyplot as plt\n",
    "plt.style.use('ggplot')\n",
    "import pandas as pd\n",
    "pd.options.display.float_format = '{:,.2f}'.format\n",
    "import numpy as np\n",
    "from mpl_toolkits.mplot3d import Axes3D\n",
    "from matplotlib import cm\n",
    "import statsmodels.api as sm\n",
    "\n",
    "# read in the datasets\n",
    "df_train = pd.read_csv('//Users/asorrentino/ds-work/homework/final-projects/data/train.csv')\n",
    "df_macro = pd.read_csv('/Users/asorrentino/ds-work/homework/final-projects/data/macro.csv')"
   ]
  },
  {
   "cell_type": "code",
   "execution_count": 11,
   "metadata": {
    "collapsed": false
   },
   "outputs": [
    {
     "data": {
      "text/html": [
       "<div>\n",
       "<table border=\"1\" class=\"dataframe\">\n",
       "  <thead>\n",
       "    <tr style=\"text-align: right;\">\n",
       "      <th></th>\n",
       "      <th>id</th>\n",
       "      <th>full_sq</th>\n",
       "      <th>life_sq</th>\n",
       "      <th>floor</th>\n",
       "      <th>max_floor</th>\n",
       "      <th>material</th>\n",
       "      <th>build_year</th>\n",
       "      <th>num_room</th>\n",
       "      <th>kitch_sq</th>\n",
       "      <th>state</th>\n",
       "      <th>...</th>\n",
       "      <th>cafe_count_5000_price_2500</th>\n",
       "      <th>cafe_count_5000_price_4000</th>\n",
       "      <th>cafe_count_5000_price_high</th>\n",
       "      <th>big_church_count_5000</th>\n",
       "      <th>church_count_5000</th>\n",
       "      <th>mosque_count_5000</th>\n",
       "      <th>leisure_count_5000</th>\n",
       "      <th>sport_count_5000</th>\n",
       "      <th>market_count_5000</th>\n",
       "      <th>price_doc</th>\n",
       "    </tr>\n",
       "  </thead>\n",
       "  <tbody>\n",
       "    <tr>\n",
       "      <th>count</th>\n",
       "      <td>30,471.00</td>\n",
       "      <td>30,471.00</td>\n",
       "      <td>24,088.00</td>\n",
       "      <td>30,304.00</td>\n",
       "      <td>20,899.00</td>\n",
       "      <td>20,899.00</td>\n",
       "      <td>16,866.00</td>\n",
       "      <td>20,899.00</td>\n",
       "      <td>20,899.00</td>\n",
       "      <td>16,912.00</td>\n",
       "      <td>...</td>\n",
       "      <td>30,471.00</td>\n",
       "      <td>30,471.00</td>\n",
       "      <td>30,471.00</td>\n",
       "      <td>30,471.00</td>\n",
       "      <td>30,471.00</td>\n",
       "      <td>30,471.00</td>\n",
       "      <td>30,471.00</td>\n",
       "      <td>30,471.00</td>\n",
       "      <td>30,471.00</td>\n",
       "      <td>30,471.00</td>\n",
       "    </tr>\n",
       "    <tr>\n",
       "      <th>mean</th>\n",
       "      <td>15,237.92</td>\n",
       "      <td>54.21</td>\n",
       "      <td>34.40</td>\n",
       "      <td>7.67</td>\n",
       "      <td>12.56</td>\n",
       "      <td>1.83</td>\n",
       "      <td>3,068.06</td>\n",
       "      <td>1.91</td>\n",
       "      <td>6.40</td>\n",
       "      <td>2.11</td>\n",
       "      <td>...</td>\n",
       "      <td>32.06</td>\n",
       "      <td>10.78</td>\n",
       "      <td>1.77</td>\n",
       "      <td>15.05</td>\n",
       "      <td>30.25</td>\n",
       "      <td>0.44</td>\n",
       "      <td>8.65</td>\n",
       "      <td>52.80</td>\n",
       "      <td>5.99</td>\n",
       "      <td>7,123,035.28</td>\n",
       "    </tr>\n",
       "    <tr>\n",
       "      <th>std</th>\n",
       "      <td>8,796.50</td>\n",
       "      <td>38.03</td>\n",
       "      <td>52.29</td>\n",
       "      <td>5.32</td>\n",
       "      <td>6.76</td>\n",
       "      <td>1.48</td>\n",
       "      <td>154,387.80</td>\n",
       "      <td>0.85</td>\n",
       "      <td>28.27</td>\n",
       "      <td>0.88</td>\n",
       "      <td>...</td>\n",
       "      <td>73.47</td>\n",
       "      <td>28.39</td>\n",
       "      <td>5.42</td>\n",
       "      <td>29.12</td>\n",
       "      <td>47.35</td>\n",
       "      <td>0.61</td>\n",
       "      <td>20.58</td>\n",
       "      <td>46.29</td>\n",
       "      <td>4.89</td>\n",
       "      <td>4,780,111.33</td>\n",
       "    </tr>\n",
       "    <tr>\n",
       "      <th>min</th>\n",
       "      <td>1.00</td>\n",
       "      <td>0.00</td>\n",
       "      <td>0.00</td>\n",
       "      <td>0.00</td>\n",
       "      <td>0.00</td>\n",
       "      <td>1.00</td>\n",
       "      <td>0.00</td>\n",
       "      <td>0.00</td>\n",
       "      <td>0.00</td>\n",
       "      <td>1.00</td>\n",
       "      <td>...</td>\n",
       "      <td>0.00</td>\n",
       "      <td>0.00</td>\n",
       "      <td>0.00</td>\n",
       "      <td>0.00</td>\n",
       "      <td>0.00</td>\n",
       "      <td>0.00</td>\n",
       "      <td>0.00</td>\n",
       "      <td>0.00</td>\n",
       "      <td>0.00</td>\n",
       "      <td>100,000.00</td>\n",
       "    </tr>\n",
       "    <tr>\n",
       "      <th>25%</th>\n",
       "      <td>7,620.50</td>\n",
       "      <td>38.00</td>\n",
       "      <td>20.00</td>\n",
       "      <td>3.00</td>\n",
       "      <td>9.00</td>\n",
       "      <td>1.00</td>\n",
       "      <td>1,967.00</td>\n",
       "      <td>1.00</td>\n",
       "      <td>1.00</td>\n",
       "      <td>1.00</td>\n",
       "      <td>...</td>\n",
       "      <td>2.00</td>\n",
       "      <td>1.00</td>\n",
       "      <td>0.00</td>\n",
       "      <td>2.00</td>\n",
       "      <td>9.00</td>\n",
       "      <td>0.00</td>\n",
       "      <td>0.00</td>\n",
       "      <td>11.00</td>\n",
       "      <td>1.00</td>\n",
       "      <td>4,740,002.00</td>\n",
       "    </tr>\n",
       "    <tr>\n",
       "      <th>50%</th>\n",
       "      <td>15,238.00</td>\n",
       "      <td>49.00</td>\n",
       "      <td>30.00</td>\n",
       "      <td>6.50</td>\n",
       "      <td>12.00</td>\n",
       "      <td>1.00</td>\n",
       "      <td>1,979.00</td>\n",
       "      <td>2.00</td>\n",
       "      <td>6.00</td>\n",
       "      <td>2.00</td>\n",
       "      <td>...</td>\n",
       "      <td>8.00</td>\n",
       "      <td>2.00</td>\n",
       "      <td>0.00</td>\n",
       "      <td>7.00</td>\n",
       "      <td>16.00</td>\n",
       "      <td>0.00</td>\n",
       "      <td>2.00</td>\n",
       "      <td>48.00</td>\n",
       "      <td>5.00</td>\n",
       "      <td>6,274,411.00</td>\n",
       "    </tr>\n",
       "    <tr>\n",
       "      <th>75%</th>\n",
       "      <td>22,855.50</td>\n",
       "      <td>63.00</td>\n",
       "      <td>43.00</td>\n",
       "      <td>11.00</td>\n",
       "      <td>17.00</td>\n",
       "      <td>2.00</td>\n",
       "      <td>2,005.00</td>\n",
       "      <td>2.00</td>\n",
       "      <td>9.00</td>\n",
       "      <td>3.00</td>\n",
       "      <td>...</td>\n",
       "      <td>21.00</td>\n",
       "      <td>5.00</td>\n",
       "      <td>1.00</td>\n",
       "      <td>12.00</td>\n",
       "      <td>28.00</td>\n",
       "      <td>1.00</td>\n",
       "      <td>7.00</td>\n",
       "      <td>76.00</td>\n",
       "      <td>10.00</td>\n",
       "      <td>8,300,000.00</td>\n",
       "    </tr>\n",
       "    <tr>\n",
       "      <th>max</th>\n",
       "      <td>30,473.00</td>\n",
       "      <td>5,326.00</td>\n",
       "      <td>7,478.00</td>\n",
       "      <td>77.00</td>\n",
       "      <td>117.00</td>\n",
       "      <td>6.00</td>\n",
       "      <td>20,052,009.00</td>\n",
       "      <td>19.00</td>\n",
       "      <td>2,014.00</td>\n",
       "      <td>33.00</td>\n",
       "      <td>...</td>\n",
       "      <td>377.00</td>\n",
       "      <td>147.00</td>\n",
       "      <td>30.00</td>\n",
       "      <td>151.00</td>\n",
       "      <td>250.00</td>\n",
       "      <td>2.00</td>\n",
       "      <td>106.00</td>\n",
       "      <td>218.00</td>\n",
       "      <td>21.00</td>\n",
       "      <td>111,111,112.00</td>\n",
       "    </tr>\n",
       "  </tbody>\n",
       "</table>\n",
       "<p>8 rows × 276 columns</p>\n",
       "</div>"
      ],
      "text/plain": [
       "             id   full_sq   life_sq     floor  max_floor  material  \\\n",
       "count 30,471.00 30,471.00 24,088.00 30,304.00  20,899.00 20,899.00   \n",
       "mean  15,237.92     54.21     34.40      7.67      12.56      1.83   \n",
       "std    8,796.50     38.03     52.29      5.32       6.76      1.48   \n",
       "min        1.00      0.00      0.00      0.00       0.00      1.00   \n",
       "25%    7,620.50     38.00     20.00      3.00       9.00      1.00   \n",
       "50%   15,238.00     49.00     30.00      6.50      12.00      1.00   \n",
       "75%   22,855.50     63.00     43.00     11.00      17.00      2.00   \n",
       "max   30,473.00  5,326.00  7,478.00     77.00     117.00      6.00   \n",
       "\n",
       "         build_year  num_room  kitch_sq     state      ...        \\\n",
       "count     16,866.00 20,899.00 20,899.00 16,912.00      ...         \n",
       "mean       3,068.06      1.91      6.40      2.11      ...         \n",
       "std      154,387.80      0.85     28.27      0.88      ...         \n",
       "min            0.00      0.00      0.00      1.00      ...         \n",
       "25%        1,967.00      1.00      1.00      1.00      ...         \n",
       "50%        1,979.00      2.00      6.00      2.00      ...         \n",
       "75%        2,005.00      2.00      9.00      3.00      ...         \n",
       "max   20,052,009.00     19.00  2,014.00     33.00      ...         \n",
       "\n",
       "       cafe_count_5000_price_2500  cafe_count_5000_price_4000  \\\n",
       "count                   30,471.00                   30,471.00   \n",
       "mean                        32.06                       10.78   \n",
       "std                         73.47                       28.39   \n",
       "min                          0.00                        0.00   \n",
       "25%                          2.00                        1.00   \n",
       "50%                          8.00                        2.00   \n",
       "75%                         21.00                        5.00   \n",
       "max                        377.00                      147.00   \n",
       "\n",
       "       cafe_count_5000_price_high  big_church_count_5000  church_count_5000  \\\n",
       "count                   30,471.00              30,471.00          30,471.00   \n",
       "mean                         1.77                  15.05              30.25   \n",
       "std                          5.42                  29.12              47.35   \n",
       "min                          0.00                   0.00               0.00   \n",
       "25%                          0.00                   2.00               9.00   \n",
       "50%                          0.00                   7.00              16.00   \n",
       "75%                          1.00                  12.00              28.00   \n",
       "max                         30.00                 151.00             250.00   \n",
       "\n",
       "       mosque_count_5000  leisure_count_5000  sport_count_5000  \\\n",
       "count          30,471.00           30,471.00         30,471.00   \n",
       "mean                0.44                8.65             52.80   \n",
       "std                 0.61               20.58             46.29   \n",
       "min                 0.00                0.00              0.00   \n",
       "25%                 0.00                0.00             11.00   \n",
       "50%                 0.00                2.00             48.00   \n",
       "75%                 1.00                7.00             76.00   \n",
       "max                 2.00              106.00            218.00   \n",
       "\n",
       "       market_count_5000      price_doc  \n",
       "count          30,471.00      30,471.00  \n",
       "mean                5.99   7,123,035.28  \n",
       "std                 4.89   4,780,111.33  \n",
       "min                 0.00     100,000.00  \n",
       "25%                 1.00   4,740,002.00  \n",
       "50%                 5.00   6,274,411.00  \n",
       "75%                10.00   8,300,000.00  \n",
       "max                21.00 111,111,112.00  \n",
       "\n",
       "[8 rows x 276 columns]"
      ]
     },
     "execution_count": 11,
     "metadata": {},
     "output_type": "execute_result"
    }
   ],
   "source": [
    "df_train.describe()"
   ]
  },
  {
   "cell_type": "code",
   "execution_count": 14,
   "metadata": {
    "collapsed": false
   },
   "outputs": [
    {
     "data": {
      "text/plain": [
       "292"
      ]
     },
     "execution_count": 14,
     "metadata": {},
     "output_type": "execute_result"
    }
   ],
   "source": [
    "len(df_train.columns)"
   ]
  },
  {
   "cell_type": "code",
   "execution_count": 15,
   "metadata": {
    "collapsed": false
   },
   "outputs": [
    {
     "data": {
      "text/html": [
       "<div>\n",
       "<table border=\"1\" class=\"dataframe\">\n",
       "  <thead>\n",
       "    <tr style=\"text-align: right;\">\n",
       "      <th></th>\n",
       "      <th>id</th>\n",
       "      <th>timestamp</th>\n",
       "      <th>full_sq</th>\n",
       "      <th>life_sq</th>\n",
       "      <th>floor</th>\n",
       "      <th>max_floor</th>\n",
       "      <th>material</th>\n",
       "      <th>build_year</th>\n",
       "      <th>num_room</th>\n",
       "      <th>kitch_sq</th>\n",
       "      <th>state</th>\n",
       "      <th>product_type</th>\n",
       "      <th>sub_area</th>\n",
       "    </tr>\n",
       "  </thead>\n",
       "  <tbody>\n",
       "    <tr>\n",
       "      <th>0</th>\n",
       "      <td>1</td>\n",
       "      <td>2011-08-20</td>\n",
       "      <td>43</td>\n",
       "      <td>27.00</td>\n",
       "      <td>4.00</td>\n",
       "      <td>nan</td>\n",
       "      <td>nan</td>\n",
       "      <td>nan</td>\n",
       "      <td>nan</td>\n",
       "      <td>nan</td>\n",
       "      <td>nan</td>\n",
       "      <td>Investment</td>\n",
       "      <td>Bibirevo</td>\n",
       "    </tr>\n",
       "    <tr>\n",
       "      <th>1</th>\n",
       "      <td>2</td>\n",
       "      <td>2011-08-23</td>\n",
       "      <td>34</td>\n",
       "      <td>19.00</td>\n",
       "      <td>3.00</td>\n",
       "      <td>nan</td>\n",
       "      <td>nan</td>\n",
       "      <td>nan</td>\n",
       "      <td>nan</td>\n",
       "      <td>nan</td>\n",
       "      <td>nan</td>\n",
       "      <td>Investment</td>\n",
       "      <td>Nagatinskij Zaton</td>\n",
       "    </tr>\n",
       "    <tr>\n",
       "      <th>2</th>\n",
       "      <td>3</td>\n",
       "      <td>2011-08-27</td>\n",
       "      <td>43</td>\n",
       "      <td>29.00</td>\n",
       "      <td>2.00</td>\n",
       "      <td>nan</td>\n",
       "      <td>nan</td>\n",
       "      <td>nan</td>\n",
       "      <td>nan</td>\n",
       "      <td>nan</td>\n",
       "      <td>nan</td>\n",
       "      <td>Investment</td>\n",
       "      <td>Tekstil'shhiki</td>\n",
       "    </tr>\n",
       "    <tr>\n",
       "      <th>3</th>\n",
       "      <td>4</td>\n",
       "      <td>2011-09-01</td>\n",
       "      <td>89</td>\n",
       "      <td>50.00</td>\n",
       "      <td>9.00</td>\n",
       "      <td>nan</td>\n",
       "      <td>nan</td>\n",
       "      <td>nan</td>\n",
       "      <td>nan</td>\n",
       "      <td>nan</td>\n",
       "      <td>nan</td>\n",
       "      <td>Investment</td>\n",
       "      <td>Mitino</td>\n",
       "    </tr>\n",
       "    <tr>\n",
       "      <th>4</th>\n",
       "      <td>5</td>\n",
       "      <td>2011-09-05</td>\n",
       "      <td>77</td>\n",
       "      <td>77.00</td>\n",
       "      <td>4.00</td>\n",
       "      <td>nan</td>\n",
       "      <td>nan</td>\n",
       "      <td>nan</td>\n",
       "      <td>nan</td>\n",
       "      <td>nan</td>\n",
       "      <td>nan</td>\n",
       "      <td>Investment</td>\n",
       "      <td>Basmannoe</td>\n",
       "    </tr>\n",
       "  </tbody>\n",
       "</table>\n",
       "</div>"
      ],
      "text/plain": [
       "   id   timestamp  full_sq  life_sq  floor  max_floor  material  build_year  \\\n",
       "0   1  2011-08-20       43    27.00   4.00        nan       nan         nan   \n",
       "1   2  2011-08-23       34    19.00   3.00        nan       nan         nan   \n",
       "2   3  2011-08-27       43    29.00   2.00        nan       nan         nan   \n",
       "3   4  2011-09-01       89    50.00   9.00        nan       nan         nan   \n",
       "4   5  2011-09-05       77    77.00   4.00        nan       nan         nan   \n",
       "\n",
       "   num_room  kitch_sq  state product_type           sub_area  \n",
       "0       nan       nan    nan   Investment           Bibirevo  \n",
       "1       nan       nan    nan   Investment  Nagatinskij Zaton  \n",
       "2       nan       nan    nan   Investment     Tekstil'shhiki  \n",
       "3       nan       nan    nan   Investment             Mitino  \n",
       "4       nan       nan    nan   Investment          Basmannoe  "
      ]
     },
     "execution_count": 15,
     "metadata": {},
     "output_type": "execute_result"
    }
   ],
   "source": [
    "df_apt = df_train.loc[:, 'id':'sub_area']\n",
    "df_apt.head()"
   ]
  },
  {
   "cell_type": "code",
   "execution_count": 16,
   "metadata": {
    "collapsed": false
   },
   "outputs": [
    {
     "data": {
      "text/html": [
       "<div>\n",
       "<table border=\"1\" class=\"dataframe\">\n",
       "  <thead>\n",
       "    <tr style=\"text-align: right;\">\n",
       "      <th></th>\n",
       "      <th>sub_area</th>\n",
       "      <th>area_m</th>\n",
       "      <th>raion_popul</th>\n",
       "      <th>green_zone_part</th>\n",
       "      <th>indust_part</th>\n",
       "      <th>children_preschool</th>\n",
       "      <th>preschool_quota</th>\n",
       "      <th>preschool_education_centers_raion</th>\n",
       "      <th>children_school</th>\n",
       "      <th>school_quota</th>\n",
       "      <th>...</th>\n",
       "      <th>cafe_count_5000_price_1500</th>\n",
       "      <th>cafe_count_5000_price_2500</th>\n",
       "      <th>cafe_count_5000_price_4000</th>\n",
       "      <th>cafe_count_5000_price_high</th>\n",
       "      <th>big_church_count_5000</th>\n",
       "      <th>church_count_5000</th>\n",
       "      <th>mosque_count_5000</th>\n",
       "      <th>leisure_count_5000</th>\n",
       "      <th>sport_count_5000</th>\n",
       "      <th>market_count_5000</th>\n",
       "    </tr>\n",
       "  </thead>\n",
       "  <tbody>\n",
       "    <tr>\n",
       "      <th>0</th>\n",
       "      <td>Bibirevo</td>\n",
       "      <td>6,407,578.10</td>\n",
       "      <td>155572</td>\n",
       "      <td>0.19</td>\n",
       "      <td>0.00</td>\n",
       "      <td>9576</td>\n",
       "      <td>5,001.00</td>\n",
       "      <td>5</td>\n",
       "      <td>10309</td>\n",
       "      <td>11,065.00</td>\n",
       "      <td>...</td>\n",
       "      <td>40</td>\n",
       "      <td>9</td>\n",
       "      <td>4</td>\n",
       "      <td>0</td>\n",
       "      <td>13</td>\n",
       "      <td>22</td>\n",
       "      <td>1</td>\n",
       "      <td>0</td>\n",
       "      <td>52</td>\n",
       "      <td>4</td>\n",
       "    </tr>\n",
       "    <tr>\n",
       "      <th>1</th>\n",
       "      <td>Nagatinskij Zaton</td>\n",
       "      <td>9,589,336.91</td>\n",
       "      <td>115352</td>\n",
       "      <td>0.37</td>\n",
       "      <td>0.05</td>\n",
       "      <td>6880</td>\n",
       "      <td>3,119.00</td>\n",
       "      <td>5</td>\n",
       "      <td>7759</td>\n",
       "      <td>6,237.00</td>\n",
       "      <td>...</td>\n",
       "      <td>36</td>\n",
       "      <td>15</td>\n",
       "      <td>3</td>\n",
       "      <td>0</td>\n",
       "      <td>15</td>\n",
       "      <td>29</td>\n",
       "      <td>1</td>\n",
       "      <td>10</td>\n",
       "      <td>66</td>\n",
       "      <td>14</td>\n",
       "    </tr>\n",
       "    <tr>\n",
       "      <th>2</th>\n",
       "      <td>Tekstil'shhiki</td>\n",
       "      <td>4,808,269.83</td>\n",
       "      <td>101708</td>\n",
       "      <td>0.11</td>\n",
       "      <td>0.12</td>\n",
       "      <td>5879</td>\n",
       "      <td>1,463.00</td>\n",
       "      <td>4</td>\n",
       "      <td>6207</td>\n",
       "      <td>5,580.00</td>\n",
       "      <td>...</td>\n",
       "      <td>25</td>\n",
       "      <td>10</td>\n",
       "      <td>3</td>\n",
       "      <td>0</td>\n",
       "      <td>11</td>\n",
       "      <td>27</td>\n",
       "      <td>0</td>\n",
       "      <td>4</td>\n",
       "      <td>67</td>\n",
       "      <td>10</td>\n",
       "    </tr>\n",
       "    <tr>\n",
       "      <th>3</th>\n",
       "      <td>Mitino</td>\n",
       "      <td>12,583,535.69</td>\n",
       "      <td>178473</td>\n",
       "      <td>0.19</td>\n",
       "      <td>0.07</td>\n",
       "      <td>13087</td>\n",
       "      <td>6,839.00</td>\n",
       "      <td>9</td>\n",
       "      <td>13670</td>\n",
       "      <td>17,063.00</td>\n",
       "      <td>...</td>\n",
       "      <td>15</td>\n",
       "      <td>11</td>\n",
       "      <td>2</td>\n",
       "      <td>1</td>\n",
       "      <td>4</td>\n",
       "      <td>4</td>\n",
       "      <td>0</td>\n",
       "      <td>0</td>\n",
       "      <td>26</td>\n",
       "      <td>3</td>\n",
       "    </tr>\n",
       "    <tr>\n",
       "      <th>4</th>\n",
       "      <td>Basmannoe</td>\n",
       "      <td>8,398,460.62</td>\n",
       "      <td>108171</td>\n",
       "      <td>0.02</td>\n",
       "      <td>0.04</td>\n",
       "      <td>5706</td>\n",
       "      <td>3,240.00</td>\n",
       "      <td>7</td>\n",
       "      <td>6748</td>\n",
       "      <td>7,770.00</td>\n",
       "      <td>...</td>\n",
       "      <td>552</td>\n",
       "      <td>319</td>\n",
       "      <td>108</td>\n",
       "      <td>17</td>\n",
       "      <td>135</td>\n",
       "      <td>236</td>\n",
       "      <td>2</td>\n",
       "      <td>91</td>\n",
       "      <td>195</td>\n",
       "      <td>14</td>\n",
       "    </tr>\n",
       "  </tbody>\n",
       "</table>\n",
       "<p>5 rows × 279 columns</p>\n",
       "</div>"
      ],
      "text/plain": [
       "            sub_area        area_m  raion_popul  green_zone_part  indust_part  \\\n",
       "0           Bibirevo  6,407,578.10       155572             0.19         0.00   \n",
       "1  Nagatinskij Zaton  9,589,336.91       115352             0.37         0.05   \n",
       "2     Tekstil'shhiki  4,808,269.83       101708             0.11         0.12   \n",
       "3             Mitino 12,583,535.69       178473             0.19         0.07   \n",
       "4          Basmannoe  8,398,460.62       108171             0.02         0.04   \n",
       "\n",
       "   children_preschool  preschool_quota  preschool_education_centers_raion  \\\n",
       "0                9576         5,001.00                                  5   \n",
       "1                6880         3,119.00                                  5   \n",
       "2                5879         1,463.00                                  4   \n",
       "3               13087         6,839.00                                  9   \n",
       "4                5706         3,240.00                                  7   \n",
       "\n",
       "   children_school  school_quota        ...          \\\n",
       "0            10309     11,065.00        ...           \n",
       "1             7759      6,237.00        ...           \n",
       "2             6207      5,580.00        ...           \n",
       "3            13670     17,063.00        ...           \n",
       "4             6748      7,770.00        ...           \n",
       "\n",
       "   cafe_count_5000_price_1500  cafe_count_5000_price_2500  \\\n",
       "0                          40                           9   \n",
       "1                          36                          15   \n",
       "2                          25                          10   \n",
       "3                          15                          11   \n",
       "4                         552                         319   \n",
       "\n",
       "   cafe_count_5000_price_4000  cafe_count_5000_price_high  \\\n",
       "0                           4                           0   \n",
       "1                           3                           0   \n",
       "2                           3                           0   \n",
       "3                           2                           1   \n",
       "4                         108                          17   \n",
       "\n",
       "   big_church_count_5000  church_count_5000  mosque_count_5000  \\\n",
       "0                     13                 22                  1   \n",
       "1                     15                 29                  1   \n",
       "2                     11                 27                  0   \n",
       "3                      4                  4                  0   \n",
       "4                    135                236                  2   \n",
       "\n",
       "  leisure_count_5000  sport_count_5000  market_count_5000  \n",
       "0                  0                52                  4  \n",
       "1                 10                66                 14  \n",
       "2                  4                67                 10  \n",
       "3                  0                26                  3  \n",
       "4                 91               195                 14  \n",
       "\n",
       "[5 rows x 279 columns]"
      ]
     },
     "execution_count": 16,
     "metadata": {},
     "output_type": "execute_result"
    }
   ],
   "source": [
    "df_area = df_train.loc[:, 'sub_area':'market_count_5000']\n",
    "df_area.head()"
   ]
  },
  {
   "cell_type": "code",
   "execution_count": null,
   "metadata": {
    "collapsed": true
   },
   "outputs": [],
   "source": []
  },
  {
   "cell_type": "code",
   "execution_count": 19,
   "metadata": {
    "collapsed": false
   },
   "outputs": [
    {
     "data": {
      "text/plain": [
       "30471"
      ]
     },
     "execution_count": 19,
     "metadata": {},
     "output_type": "execute_result"
    }
   ],
   "source": [
    "len(df_train.index)"
   ]
  },
  {
   "cell_type": "code",
   "execution_count": 20,
   "metadata": {
    "collapsed": false
   },
   "outputs": [
    {
     "data": {
      "text/plain": [
       "30471"
      ]
     },
     "execution_count": 20,
     "metadata": {},
     "output_type": "execute_result"
    }
   ],
   "source": [
    "len(df_area.index)"
   ]
  },
  {
   "cell_type": "code",
   "execution_count": 21,
   "metadata": {
    "collapsed": false
   },
   "outputs": [
    {
     "data": {
      "text/plain": [
       "279"
      ]
     },
     "execution_count": 21,
     "metadata": {},
     "output_type": "execute_result"
    }
   ],
   "source": [
    "len(df_area.columns)"
   ]
  },
  {
   "cell_type": "code",
   "execution_count": 22,
   "metadata": {
    "collapsed": false
   },
   "outputs": [
    {
     "data": {
      "text/plain": [
       "(2484, 100)"
      ]
     },
     "execution_count": 22,
     "metadata": {},
     "output_type": "execute_result"
    }
   ],
   "source": [
    "len(df_macro.index), len(df_macro.columns)"
   ]
  },
  {
   "cell_type": "code",
   "execution_count": 137,
   "metadata": {
    "collapsed": false
   },
   "outputs": [
    {
     "data": {
      "text/html": [
       "<div>\n",
       "<table border=\"1\" class=\"dataframe\">\n",
       "  <thead>\n",
       "    <tr style=\"text-align: right;\">\n",
       "      <th></th>\n",
       "      <th>timestamp</th>\n",
       "      <th>oil_urals</th>\n",
       "      <th>gdp_quart</th>\n",
       "      <th>gdp_quart_growth</th>\n",
       "      <th>cpi</th>\n",
       "      <th>ppi</th>\n",
       "      <th>gdp_deflator</th>\n",
       "      <th>balance_trade</th>\n",
       "      <th>balance_trade_growth</th>\n",
       "      <th>usdrub</th>\n",
       "      <th>...</th>\n",
       "      <th>provision_retail_space_modern_sqm</th>\n",
       "      <th>turnover_catering_per_cap</th>\n",
       "      <th>theaters_viewers_per_1000_cap</th>\n",
       "      <th>seats_theather_rfmin_per_100000_cap</th>\n",
       "      <th>museum_visitis_per_100_cap</th>\n",
       "      <th>bandwidth_sports</th>\n",
       "      <th>population_reg_sports_share</th>\n",
       "      <th>students_reg_sports_share</th>\n",
       "      <th>apartment_build</th>\n",
       "      <th>apartment_fund_sqm</th>\n",
       "    </tr>\n",
       "  </thead>\n",
       "  <tbody>\n",
       "    <tr>\n",
       "      <th>2479</th>\n",
       "      <td>2016-10-15</td>\n",
       "      <td>44.37</td>\n",
       "      <td>19,979.40</td>\n",
       "      <td>-0.60</td>\n",
       "      <td>531.00</td>\n",
       "      <td>601.90</td>\n",
       "      <td>133.16</td>\n",
       "      <td>5.82</td>\n",
       "      <td>2.60</td>\n",
       "      <td>62.96</td>\n",
       "      <td>...</td>\n",
       "      <td>nan</td>\n",
       "      <td>nan</td>\n",
       "      <td>nan</td>\n",
       "      <td>nan</td>\n",
       "      <td>nan</td>\n",
       "      <td>nan</td>\n",
       "      <td>nan</td>\n",
       "      <td>nan</td>\n",
       "      <td>nan</td>\n",
       "      <td>nan</td>\n",
       "    </tr>\n",
       "    <tr>\n",
       "      <th>2480</th>\n",
       "      <td>2016-10-16</td>\n",
       "      <td>44.37</td>\n",
       "      <td>19,979.40</td>\n",
       "      <td>-0.60</td>\n",
       "      <td>531.00</td>\n",
       "      <td>601.90</td>\n",
       "      <td>133.16</td>\n",
       "      <td>5.82</td>\n",
       "      <td>2.60</td>\n",
       "      <td>62.96</td>\n",
       "      <td>...</td>\n",
       "      <td>nan</td>\n",
       "      <td>nan</td>\n",
       "      <td>nan</td>\n",
       "      <td>nan</td>\n",
       "      <td>nan</td>\n",
       "      <td>nan</td>\n",
       "      <td>nan</td>\n",
       "      <td>nan</td>\n",
       "      <td>nan</td>\n",
       "      <td>nan</td>\n",
       "    </tr>\n",
       "    <tr>\n",
       "      <th>2481</th>\n",
       "      <td>2016-10-17</td>\n",
       "      <td>44.37</td>\n",
       "      <td>19,979.40</td>\n",
       "      <td>-0.60</td>\n",
       "      <td>531.00</td>\n",
       "      <td>601.90</td>\n",
       "      <td>133.16</td>\n",
       "      <td>5.82</td>\n",
       "      <td>2.60</td>\n",
       "      <td>63.09</td>\n",
       "      <td>...</td>\n",
       "      <td>nan</td>\n",
       "      <td>nan</td>\n",
       "      <td>nan</td>\n",
       "      <td>nan</td>\n",
       "      <td>nan</td>\n",
       "      <td>nan</td>\n",
       "      <td>nan</td>\n",
       "      <td>nan</td>\n",
       "      <td>nan</td>\n",
       "      <td>nan</td>\n",
       "    </tr>\n",
       "    <tr>\n",
       "      <th>2482</th>\n",
       "      <td>2016-10-18</td>\n",
       "      <td>44.37</td>\n",
       "      <td>19,979.40</td>\n",
       "      <td>-0.60</td>\n",
       "      <td>531.00</td>\n",
       "      <td>601.90</td>\n",
       "      <td>133.16</td>\n",
       "      <td>5.82</td>\n",
       "      <td>2.60</td>\n",
       "      <td>62.95</td>\n",
       "      <td>...</td>\n",
       "      <td>nan</td>\n",
       "      <td>nan</td>\n",
       "      <td>nan</td>\n",
       "      <td>nan</td>\n",
       "      <td>nan</td>\n",
       "      <td>nan</td>\n",
       "      <td>nan</td>\n",
       "      <td>nan</td>\n",
       "      <td>nan</td>\n",
       "      <td>nan</td>\n",
       "    </tr>\n",
       "    <tr>\n",
       "      <th>2483</th>\n",
       "      <td>2016-10-19</td>\n",
       "      <td>44.37</td>\n",
       "      <td>19,979.40</td>\n",
       "      <td>-0.60</td>\n",
       "      <td>531.00</td>\n",
       "      <td>601.90</td>\n",
       "      <td>133.16</td>\n",
       "      <td>5.82</td>\n",
       "      <td>2.60</td>\n",
       "      <td>62.95</td>\n",
       "      <td>...</td>\n",
       "      <td>nan</td>\n",
       "      <td>nan</td>\n",
       "      <td>nan</td>\n",
       "      <td>nan</td>\n",
       "      <td>nan</td>\n",
       "      <td>nan</td>\n",
       "      <td>nan</td>\n",
       "      <td>nan</td>\n",
       "      <td>nan</td>\n",
       "      <td>nan</td>\n",
       "    </tr>\n",
       "  </tbody>\n",
       "</table>\n",
       "<p>5 rows × 100 columns</p>\n",
       "</div>"
      ],
      "text/plain": [
       "       timestamp  oil_urals  gdp_quart  gdp_quart_growth    cpi    ppi  \\\n",
       "2479  2016-10-15      44.37  19,979.40             -0.60 531.00 601.90   \n",
       "2480  2016-10-16      44.37  19,979.40             -0.60 531.00 601.90   \n",
       "2481  2016-10-17      44.37  19,979.40             -0.60 531.00 601.90   \n",
       "2482  2016-10-18      44.37  19,979.40             -0.60 531.00 601.90   \n",
       "2483  2016-10-19      44.37  19,979.40             -0.60 531.00 601.90   \n",
       "\n",
       "      gdp_deflator  balance_trade  balance_trade_growth  usdrub  \\\n",
       "2479        133.16           5.82                  2.60   62.96   \n",
       "2480        133.16           5.82                  2.60   62.96   \n",
       "2481        133.16           5.82                  2.60   63.09   \n",
       "2482        133.16           5.82                  2.60   62.95   \n",
       "2483        133.16           5.82                  2.60   62.95   \n",
       "\n",
       "             ...          provision_retail_space_modern_sqm  \\\n",
       "2479         ...                                        nan   \n",
       "2480         ...                                        nan   \n",
       "2481         ...                                        nan   \n",
       "2482         ...                                        nan   \n",
       "2483         ...                                        nan   \n",
       "\n",
       "      turnover_catering_per_cap  theaters_viewers_per_1000_cap  \\\n",
       "2479                        nan                            nan   \n",
       "2480                        nan                            nan   \n",
       "2481                        nan                            nan   \n",
       "2482                        nan                            nan   \n",
       "2483                        nan                            nan   \n",
       "\n",
       "      seats_theather_rfmin_per_100000_cap  museum_visitis_per_100_cap  \\\n",
       "2479                                  nan                         nan   \n",
       "2480                                  nan                         nan   \n",
       "2481                                  nan                         nan   \n",
       "2482                                  nan                         nan   \n",
       "2483                                  nan                         nan   \n",
       "\n",
       "      bandwidth_sports  population_reg_sports_share  \\\n",
       "2479               nan                          nan   \n",
       "2480               nan                          nan   \n",
       "2481               nan                          nan   \n",
       "2482               nan                          nan   \n",
       "2483               nan                          nan   \n",
       "\n",
       "      students_reg_sports_share  apartment_build  apartment_fund_sqm  \n",
       "2479                        nan              nan                 nan  \n",
       "2480                        nan              nan                 nan  \n",
       "2481                        nan              nan                 nan  \n",
       "2482                        nan              nan                 nan  \n",
       "2483                        nan              nan                 nan  \n",
       "\n",
       "[5 rows x 100 columns]"
      ]
     },
     "execution_count": 137,
     "metadata": {},
     "output_type": "execute_result"
    }
   ],
   "source": [
    "df_macro.tail()"
   ]
  },
  {
   "cell_type": "code",
   "execution_count": 26,
   "metadata": {
    "collapsed": false
   },
   "outputs": [
    {
     "data": {
      "text/plain": [
       "(1161, 292)"
      ]
     },
     "execution_count": 26,
     "metadata": {},
     "output_type": "execute_result"
    }
   ],
   "source": [
    "days = df_train.drop_duplicates('timestamp')\n",
    "len(days.index), len(days.columns)"
   ]
  },
  {
   "cell_type": "code",
   "execution_count": 41,
   "metadata": {
    "collapsed": false
   },
   "outputs": [
    {
     "data": {
      "text/plain": [
       "sub_area                                 146\n",
       "area_m                                   146\n",
       "raion_popul                              146\n",
       "green_zone_part                          146\n",
       "indust_part                              146\n",
       "children_preschool                       146\n",
       "preschool_quota                          124\n",
       "preschool_education_centers_raion        146\n",
       "children_school                          146\n",
       "school_quota                             125\n",
       "school_education_centers_raion           146\n",
       "school_education_centers_top_20_raion    146\n",
       "hospital_beds_raion                       84\n",
       "healthcare_centers_raion                 146\n",
       "university_top_20_raion                  146\n",
       "sport_objects_raion                      146\n",
       "additional_education_raion               146\n",
       "culture_objects_top_25                   146\n",
       "culture_objects_top_25_raion             146\n",
       "shopping_centers_raion                   146\n",
       "office_raion                             146\n",
       "thermal_power_plant_raion                146\n",
       "incineration_raion                       146\n",
       "oil_chemistry_raion                      146\n",
       "radiation_raion                          146\n",
       "railroad_terminal_raion                  146\n",
       "big_market_raion                         146\n",
       "nuclear_reactor_raion                    146\n",
       "detention_facility_raion                 146\n",
       "full_all                                 146\n",
       "                                        ... \n",
       "cafe_count_3000_price_high               146\n",
       "big_church_count_3000                    146\n",
       "church_count_3000                        146\n",
       "mosque_count_3000                        146\n",
       "leisure_count_3000                       146\n",
       "sport_count_3000                         146\n",
       "market_count_3000                        146\n",
       "green_part_5000                          146\n",
       "prom_part_5000                           145\n",
       "office_count_5000                        146\n",
       "office_sqm_5000                          146\n",
       "trc_count_5000                           146\n",
       "trc_sqm_5000                             146\n",
       "cafe_count_5000                          146\n",
       "cafe_sum_5000_min_price_avg              138\n",
       "cafe_sum_5000_max_price_avg              138\n",
       "cafe_avg_price_5000                      138\n",
       "cafe_count_5000_na_price                 146\n",
       "cafe_count_5000_price_500                146\n",
       "cafe_count_5000_price_1000               146\n",
       "cafe_count_5000_price_1500               146\n",
       "cafe_count_5000_price_2500               146\n",
       "cafe_count_5000_price_4000               146\n",
       "cafe_count_5000_price_high               146\n",
       "big_church_count_5000                    146\n",
       "church_count_5000                        146\n",
       "mosque_count_5000                        146\n",
       "leisure_count_5000                       146\n",
       "sport_count_5000                         146\n",
       "market_count_5000                        146\n",
       "dtype: int64"
      ]
     },
     "execution_count": 41,
     "metadata": {},
     "output_type": "execute_result"
    }
   ],
   "source": [
    "sub_areas = df_area.drop_duplicates('sub_area')\n",
    "sub_areas.count()"
   ]
  },
  {
   "cell_type": "code",
   "execution_count": 139,
   "metadata": {
    "collapsed": false
   },
   "outputs": [
    {
     "data": {
      "text/plain": [
       "count        30,471.00\n",
       "mean      7,123,035.28\n",
       "std       4,780,111.33\n",
       "min         100,000.00\n",
       "25%       4,740,002.00\n",
       "50%       6,274,411.00\n",
       "75%       8,300,000.00\n",
       "max     111,111,112.00\n",
       "Name: price_doc, dtype: float64"
      ]
     },
     "execution_count": 139,
     "metadata": {},
     "output_type": "execute_result"
    }
   ],
   "source": [
    "df_train['price_doc'].describe()"
   ]
  },
  {
   "cell_type": "code",
   "execution_count": 96,
   "metadata": {
    "collapsed": false
   },
   "outputs": [
    {
     "data": {
      "text/plain": [
       "<matplotlib.axes._subplots.AxesSubplot at 0x116e75c50>"
      ]
     },
     "execution_count": 96,
     "metadata": {},
     "output_type": "execute_result"
    },
    {
     "data": {
      "image/png": "[encoded data removed]",
      "text/plain": [
       "<matplotlib.figure.Figure at 0x11716cc90>"
      ]
     },
     "metadata": {},
     "output_type": "display_data"
    }
   ],
   "source": [
    "df_train['price_doc'].plot.hist(bins=100)"
   ]
  },
  {
   "cell_type": "code",
   "execution_count": 27,
   "metadata": {
    "collapsed": false
   },
   "outputs": [
    {
     "data": {
      "text/plain": [
       "0    2011-08-20\n",
       "1    2011-08-23\n",
       "2    2011-08-27\n",
       "3    2011-09-01\n",
       "4    2011-09-05\n",
       "Name: timestamp, dtype: object"
      ]
     },
     "execution_count": 27,
     "metadata": {},
     "output_type": "execute_result"
    }
   ],
   "source": [
    "df_train['timestamp'].head()"
   ]
  },
  {
   "cell_type": "code",
   "execution_count": 133,
   "metadata": {
    "collapsed": false
   },
   "outputs": [
    {
     "data": {
      "text/plain": [
       "30466    2015-06-30\n",
       "30467    2015-06-30\n",
       "30468    2015-06-30\n",
       "30469    2015-06-30\n",
       "30470    2015-06-30\n",
       "Name: timestamp, dtype: object"
      ]
     },
     "execution_count": 133,
     "metadata": {},
     "output_type": "execute_result"
    }
   ],
   "source": [
    "df_train['timestamp'].tail()"
   ]
  },
  {
   "cell_type": "code",
   "execution_count": 134,
   "metadata": {
    "collapsed": false
   },
   "outputs": [
    {
     "data": {
      "text/plain": [
       "0    2010-01-01\n",
       "1    2010-01-02\n",
       "2    2010-01-03\n",
       "3    2010-01-04\n",
       "4    2010-01-05\n",
       "Name: timestamp, dtype: object"
      ]
     },
     "execution_count": 134,
     "metadata": {},
     "output_type": "execute_result"
    }
   ],
   "source": [
    "df_macro['timestamp'].head()"
   ]
  },
  {
   "cell_type": "code",
   "execution_count": 135,
   "metadata": {
    "collapsed": false
   },
   "outputs": [
    {
     "data": {
      "text/plain": [
       "2479    2016-10-15\n",
       "2480    2016-10-16\n",
       "2481    2016-10-17\n",
       "2482    2016-10-18\n",
       "2483    2016-10-19\n",
       "Name: timestamp, dtype: object"
      ]
     },
     "execution_count": 135,
     "metadata": {},
     "output_type": "execute_result"
    }
   ],
   "source": [
    "df_macro['timestamp'].tail()"
   ]
  },
  {
   "cell_type": "code",
   "execution_count": null,
   "metadata": {
    "collapsed": true
   },
   "outputs": [],
   "source": []
  }
 ],
 "metadata": {
  "kernelspec": {
   "display_name": "Python 2",
   "language": "python",
   "name": "python2"
  },
  "language_info": {
   "codemirror_mode": {
    "name": "ipython",
    "version": 2
   },
   "file_extension": ".py",
   "mimetype": "text/x-python",
   "name": "python",
   "nbconvert_exporter": "python",
   "pygments_lexer": "ipython2",
   "version": "2.7.13"
  }
 },
 "nbformat": 4,
 "nbformat_minor": 2
}
